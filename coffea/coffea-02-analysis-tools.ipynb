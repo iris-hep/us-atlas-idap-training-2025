{
 "cells": [
  {
   "cell_type": "markdown",
   "id": "c090900e",
   "metadata": {},
   "source": [
    "# Analysis tools\n",
    "\n",
    "Now that we [know how to access data with `NanoEvents`](https://github.com/iris-hep/us-atlas-idap-training-2024/tree/main/PHYSLITE), let's go through some useful columnar analysis tools and idioms for building collections of results, namely, the eventual output of a `coffea` callable (or processor).\n",
    "The most familiar type of output may be the histogram (one type of accumulator).\n",
    "\n",
    "We'll just look at single files for the time being to keep things simple."
   ]
  },
  {
   "cell_type": "markdown",
   "id": "0f5fe09c",
   "metadata": {},
   "source": [
    "## Rapid review of what we've already seen"
   ]
  },
  {
   "cell_type": "code",
   "execution_count": null,
   "id": "cd3777c5",
   "metadata": {},
   "outputs": [],
   "source": [
    "from pathlib import Path\n",
    "import warnings\n",
    "\n",
    "from matplotlib import pyplot as plt\n",
    "import awkward as ak\n",
    "from hist import Hist\n",
    "from coffea.nanoevents import NanoEventsFactory, PHYSLITESchema\n",
    "from coffea.analysis_tools import PackedSelection\n",
    "import mplhep\n",
    "\n",
    "PHYSLITESchema.warn_missing_crossrefs = False"
   ]
  },
  {
   "cell_type": "code",
   "execution_count": null,
   "id": "926e3084",
   "metadata": {},
   "outputs": [],
   "source": [
    "from importlib.metadata import version\n",
    "\n",
    "for package in [\"numpy\", \"awkward\", \"uproot\", \"coffea\"]:\n",
    "    print(f\"# {package}: v{version(package)}\")"
   ]
  },
  {
   "cell_type": "code",
   "execution_count": null,
   "id": "fa8f602b",
   "metadata": {},
   "outputs": [],
   "source": [
    "# HZZ -> 4l sample\n",
    "\n",
    "# local\n",
    "file_path = '/Users/iason/DAOD_PHYSLITE.38191712._000001.pool.root.1'\n",
    "\n",
    "# stream\n",
    "# file_path = \"root://eospublic.cern.ch//eos/opendata/atlas/rucio/mc20_13TeV/DAOD_PHYSLITE.38191712._000001.pool.root.1\"\n",
    "\n",
    "# XCache\n",
    "# file_path = \"root://xcache.af.uchicago.edu:1094//root://eospublic.cern.ch//eos/opendata/atlas/rucio/mc20_13TeV/DAOD_PHYSLITE.38191712._000001.pool.root.1\""
   ]
  },
  {
   "cell_type": "markdown",
   "id": "e7190be1",
   "metadata": {
    "lines_to_next_cell": 2
   },
   "source": [
    "There is lots of information in the files, but for this example we're only going to look at a few fields:\n",
    "* Event information\n",
    "* Electrons\n",
    "* Muons\n",
    "* Jets\n",
    "* B-tagging"
   ]
  },
  {
   "cell_type": "code",
   "execution_count": null,
   "id": "1fcc1cb8",
   "metadata": {},
   "outputs": [],
   "source": [
    "def filter_name(name):\n",
    "    \"\"\"\n",
    "    Load only the properties/variables needed.\n",
    "    \"\"\"\n",
    "    return name in (\n",
    "        \"EventInfoAuxDyn.mcEventWeights\",\n",
    "        \"EventInfoAuxDyn.mcChannelNumber\",\n",
    "        #\n",
    "        \"AnalysisElectronsAuxDyn.pt\",\n",
    "        \"AnalysisElectronsAuxDyn.eta\",\n",
    "        \"AnalysisElectronsAuxDyn.phi\",\n",
    "        \"AnalysisElectronsAuxDyn.m\",\n",
    "        \"AnalysisElectronsAuxDyn.DFCommonElectronsLHLoose\",\n",
    "        \"AnalysisElectronsAuxDyn.charge\",\n",
    "        #\n",
    "        \"AnalysisMuonsAuxDyn.pt\",\n",
    "        \"AnalysisMuonsAuxDyn.eta\",\n",
    "        \"AnalysisMuonsAuxDyn.phi\",\n",
    "        \"AnalysisMuonsAuxDyn.m\",\n",
    "        \"AnalysisMuonsAuxDyn.charge\",\n",
    "        \"AnalysisMuonsAuxDyn.quality\",\n",
    "        #\n",
    "        \"AnalysisJetsAuxDyn.pt\",\n",
    "        \"AnalysisJetsAuxDyn.eta\",\n",
    "        \"AnalysisJetsAuxDyn.phi\",\n",
    "        \"AnalysisJetsAuxDyn.m\",\n",
    "        #\n",
    "        \"BTagging_AntiKt4EMPFlowAuxDyn.DL1dv01_pb\",\n",
    "        \"BTagging_AntiKt4EMPFlowAuxDyn.DL1dv01_pc\",\n",
    "        \"BTagging_AntiKt4EMPFlowAuxDyn.DL1dv01_pu\",\n",
    "    )"
   ]
  },
  {
   "cell_type": "markdown",
   "id": "9fbd2a26",
   "metadata": {},
   "source": [
    "There will be some warnings from `coffea`, but in this case they can be ignored."
   ]
  },
  {
   "cell_type": "code",
   "execution_count": null,
   "id": "74db7769",
   "metadata": {},
   "outputs": [],
   "source": [
    "warnings.filterwarnings(\n",
    "    \"ignore\",\n",
    "    message=\"Skipping \",\n",
    "    category=UserWarning,\n",
    ")\n",
    "\n",
    "events = NanoEventsFactory.from_root(\n",
    "    {file_path: \"CollectionTree\"},\n",
    "    schemaclass=PHYSLITESchema,\n",
    "    iteritems_options=dict(filter_name=filter_name),\n",
    ").events()"
   ]
  },
  {
   "cell_type": "markdown",
   "id": "a968e7ab",
   "metadata": {},
   "source": [
    "and we get the fields we requested"
   ]
  },
  {
   "cell_type": "code",
   "execution_count": null,
   "id": "10319c88",
   "metadata": {},
   "outputs": [],
   "source": [
    "events.fields"
   ]
  },
  {
   "cell_type": "markdown",
   "id": "accf1274",
   "metadata": {},
   "source": [
    "and the subfields that were requested for each field"
   ]
  },
  {
   "cell_type": "code",
   "execution_count": null,
   "id": "e7a2f11a",
   "metadata": {},
   "outputs": [],
   "source": [
    "for _field in events.fields:\n",
    "    print(f\"* {_field}: {events[_field].fields}\")"
   ]
  },
  {
   "cell_type": "markdown",
   "id": "32506868",
   "metadata": {},
   "source": [
    "## `PackedSelection`\n",
    "\n",
    "This class can store several boolean arrays in a memory-efficient mannner and evaluate arbitrary combinations of boolean requirements in an CPU-efficient way. Supported inputs include 1D `numpy` or `awkward` arrays. This makes it a good tool to form analysis signal and control regions, and to implement cutflow or \"N-1\" plots.\n",
    "\n",
    "Below we create a packed selection with some typical selections for a $Z$+jets study, to be used later to form same-sign and opposite-sign $ee$ and $\\mu\\mu$ event categories/regions."
   ]
  },
  {
   "cell_type": "markdown",
   "id": "09d7bc38",
   "metadata": {},
   "source": [
    "We'll use [ATLAS open data electroweak boson simulation](https://opendata.cern.ch/record/80010) for this ( DOI:[10.7483/OPENDATA.ATLAS.K5SU.X65Y](http://doi.org/10.7483/OPENDATA.ATLAS.K5SU.X65Y)). Specifically `mc20_13TeV_MC_Sh_2211_Zee_maxHTpTV2_CVetoBVeto` and `mc20_13TeV_MC_Sh_2211_Zmumu_maxHTpTV2_CVetoBVeto` samples."
   ]
  },
  {
   "cell_type": "code",
   "execution_count": null,
   "id": "cbab2493",
   "metadata": {},
   "outputs": [],
   "source": [
    "# Zee\n",
    "\n",
    "# local\n",
    "file_path = \"/Users/iason/DAOD_PHYSLITE.37621317._000001.pool.root.1\"\n",
    "\n",
    "# stream\n",
    "# file_path = \"root://eospublic.cern.ch//eos/opendata/atlas/rucio/mc20_13TeV/DAOD_PHYSLITE.37621317._000001.pool.root.1\"\n",
    "\n",
    "# XCache\n",
    "# file_path = \"root://xcache.af.uchicago.edu:1094//root://eospublic.cern.ch//eos/opendata/atlas/rucio/mc20_13TeV/DAOD_PHYSLITE.37621317._000001.pool.root.1\""
   ]
  },
  {
   "cell_type": "code",
   "execution_count": null,
   "id": "4c950c99",
   "metadata": {},
   "outputs": [],
   "source": [
    "events = NanoEventsFactory.from_root(\n",
    "    {file_path: \"CollectionTree\"},\n",
    "    schemaclass=PHYSLITESchema,\n",
    "    iteritems_options=dict(filter_name=filter_name),\n",
    ").events()"
   ]
  },
  {
   "cell_type": "code",
   "execution_count": null,
   "id": "9eaf0e91",
   "metadata": {},
   "outputs": [],
   "source": [
    "selection = PackedSelection()\n",
    "\n",
    "selection.add(\"two_electrons\", ak.num(events.Electrons, axis=1) == 2)\n",
    "selection.add(\"electrons_opposite_sign\", ak.sum(events.Electrons.charge, axis=1) == 0)\n",
    "selection.add(\"no_electrons\", ak.num(events.Electrons, axis=1) == 0)\n",
    "\n",
    "selection.add(\"two_muons\", ak.num(events.Muons, axis=1) == 2)\n",
    "selection.add(\"muons_opposite_sign\", ak.sum(events.Muons.charge, axis=1) == 0)\n",
    "selection.add(\"no_muons\", ak.num(events.Muons, axis=1) == 0)\n",
    "\n",
    "\n",
    "selection.add(\n",
    "    \"lead_pt_20\",\n",
    "    # assuming one of `two_electrons` or `two_muons` is imposed, this implies at least one is above threshold\n",
    "    ak.any(events.Electrons.pt >= 20.0, axis=1)\n",
    "    | ak.any(events.Muons.pt >= 20.0, axis=1),\n",
    ")\n",
    "\n",
    "print(selection.names)"
   ]
  },
  {
   "cell_type": "markdown",
   "id": "0ae27d5e",
   "metadata": {},
   "source": [
    "To evaluate a boolean mask (e.g. to filter events) we can use the `selection.all(*names)` function, which will compute the AND of all listed boolean selections"
   ]
  },
  {
   "cell_type": "code",
   "execution_count": null,
   "id": "2157840d",
   "metadata": {},
   "outputs": [],
   "source": [
    "selection.all(\"two_electrons\", \"no_muons\", \"lead_pt_20\")"
   ]
  },
  {
   "cell_type": "markdown",
   "id": "4f021b3a",
   "metadata": {},
   "source": [
    "We can also be more specific and require that a specific set of selections have a given value (with the unspecified ones allowed to be either `True` or `False`) using `selection.require`"
   ]
  },
  {
   "cell_type": "code",
   "execution_count": null,
   "id": "fb1ca9f5",
   "metadata": {},
   "outputs": [],
   "source": [
    "selection.require(two_electrons=True, no_muons=True, electrons_opposite_sign=False)"
   ]
  },
  {
   "cell_type": "markdown",
   "id": "1e44bf58",
   "metadata": {},
   "source": [
    "Using the Python syntax for passing an arguments variable, we can easily implement a \"N-1\" style selection"
   ]
  },
  {
   "cell_type": "code",
   "execution_count": null,
   "id": "04efade1",
   "metadata": {},
   "outputs": [],
   "source": [
    "all_cuts = {\"two_electrons\", \"no_muons\", \"lead_pt_20\"}\n",
    "results = {}\n",
    "for cut in all_cuts:\n",
    "    n_events = ak.sum(selection.all(*(all_cuts - {cut})), axis=0)\n",
    "    results[cut] = n_events\n",
    "\n",
    "results[\"None\"] = ak.sum(selection.all(*all_cuts), axis=0)\n",
    "\n",
    "for cut, n_events in results.items():\n",
    "    print(f\"Events passing all cuts, ignoring '{cut}': {n_events}\")"
   ]
  },
  {
   "cell_type": "markdown",
   "id": "20a6936e-9d1a-4ad3-9543-c04e635fcaa1",
   "metadata": {},
   "source": [
    "Lucky coffea implements that for you. And also a \"cutflow\" selection via `selection.cutflow`"
   ]
  },
  {
   "cell_type": "code",
   "execution_count": null,
   "id": "96874bc4-2efa-4504-81f5-97a16925dc28",
   "metadata": {},
   "outputs": [],
   "source": [
    "nminusone = selection.nminusone(\"two_electrons\", \"no_muons\", \"lead_pt_20\")\n",
    "nminusone.print()"
   ]
  },
  {
   "cell_type": "code",
   "execution_count": null,
   "id": "1164fb8a-3802-4fbd-883b-7737c62645c0",
   "metadata": {},
   "outputs": [],
   "source": [
    "h, labels = nminusone.yieldhist()\n",
    "h.plot()\n",
    "plt.xticks(plt.gca().get_xticks(), labels, rotation=45)\n",
    "plt.show()"
   ]
  },
  {
   "cell_type": "markdown",
   "id": "26004e8a",
   "metadata": {},
   "source": [
    "## Bringing it together\n",
    "\n",
    "Let's build a callable function that books a few results:\n",
    "* the sum of weights for the events processed (to use for later luminosity-normalizing the yields)\n",
    "* a histogram of the dilepton invariant mass, with category axes for various selection regions of interest"
   ]
  },
  {
   "cell_type": "code",
   "execution_count": null,
   "id": "6010e67a",
   "metadata": {},
   "outputs": [],
   "source": [
    "events = NanoEventsFactory.from_root(\n",
    "    {file_path: \"CollectionTree\"},\n",
    "    schemaclass=PHYSLITESchema,\n",
    "    iteritems_options=dict(filter_name=filter_name),\n",
    ").events()"
   ]
  },
  {
   "cell_type": "code",
   "execution_count": null,
   "id": "0bdc935e",
   "metadata": {},
   "outputs": [],
   "source": [
    "events"
   ]
  },
  {
   "cell_type": "code",
   "execution_count": null,
   "id": "76bb46b7",
   "metadata": {},
   "outputs": [],
   "source": [
    "def results(events):\n",
    "    selection = PackedSelection()\n",
    "\n",
    "    selection.add(\"two_electrons\", ak.num(events.Electrons, axis=1) == 2)\n",
    "    selection.add(\n",
    "        \"electrons_opposite_sign\", ak.sum(events.Electrons.charge, axis=1) == 0\n",
    "    )\n",
    "    selection.add(\"no_electrons\", ak.num(events.Electrons, axis=1) == 0)\n",
    "\n",
    "    selection.add(\"two_muons\", ak.num(events.Muons, axis=1) == 2)\n",
    "    selection.add(\"muons_opposite_sign\", ak.sum(events.Muons.charge, axis=1) == 0)\n",
    "    selection.add(\"no_muons\", ak.num(events.Muons, axis=1) == 0)\n",
    "\n",
    "    selection.add(\n",
    "        \"lead_pt_20\",\n",
    "        # assuming one of `two_electrons` or `two_muons` is imposed, this implies at least one is above threshold\n",
    "        ak.any(events.Electrons.pt >= 20.0, axis=1)\n",
    "        | ak.any(events.Muons.pt >= 20.0, axis=1),\n",
    "    )\n",
    "\n",
    "    regions = {\n",
    "        \"ee\": {\n",
    "            \"two_electrons\": True,\n",
    "            \"no_muons\": True,\n",
    "            \"lead_pt_20\": True,\n",
    "            \"electrons_opposite_sign\": True,\n",
    "        },\n",
    "        \"ee_same_sign\": {\n",
    "            \"two_electrons\": True,\n",
    "            \"no_muons\": True,\n",
    "            \"lead_pt_20\": True,\n",
    "            \"electrons_opposite_sign\": False,\n",
    "        },\n",
    "        \"mumu\": {\n",
    "            \"two_muons\": True,\n",
    "            \"no_electrons\": True,\n",
    "            \"lead_pt_20\": True,\n",
    "            \"muons_opposite_sign\": True,\n",
    "        },\n",
    "        \"mumu_same_sign\": {\n",
    "            \"two_muons\": True,\n",
    "            \"no_electrons\": True,\n",
    "            \"lead_pt_20\": True,\n",
    "            \"muons_opposite_sign\": False,\n",
    "        },\n",
    "    }\n",
    "\n",
    "    mass_hist = (\n",
    "        Hist.new.StrCat(regions.keys(), name=\"region\")\n",
    "        .Reg(60, 60, 120, name=\"mass\", label=\"$m_{ll}$ [GeV]\")\n",
    "        .Weight()\n",
    "    )\n",
    "\n",
    "    for region, cuts in regions.items():\n",
    "        good_event = selection.require(**cuts)\n",
    "\n",
    "        if region.startswith(\"ee\"):\n",
    "            leptons = events.Electrons[good_event]\n",
    "        elif region.startswith(\"mumu\"):\n",
    "            # Hack for the time being given PHYSLITESchema needs fixing\n",
    "            _muons = events.Muons[good_event]\n",
    "            _muons[\"m\"] = ak.zeros_like(_muons.pt)\n",
    "            leptons = _muons\n",
    "        lep1 = leptons[:, 0]\n",
    "        lep2 = leptons[:, 1]\n",
    "        mass = (lep1 + lep2).mass\n",
    "\n",
    "        mass_hist.fill(\n",
    "            region=region,\n",
    "            mass=mass,\n",
    "        )\n",
    "\n",
    "    out = {\n",
    "        \"sumw\": ak.sum(events.EventInfo.mcEventWeights, axis=0),\n",
    "        \"mass\": mass_hist,\n",
    "    }\n",
    "\n",
    "    return out"
   ]
  },
  {
   "cell_type": "markdown",
   "id": "4158be5c",
   "metadata": {},
   "source": [
    "So when we reun we get a `dict` of task graphs"
   ]
  },
  {
   "cell_type": "code",
   "execution_count": null,
   "id": "e99aae16",
   "metadata": {},
   "outputs": [],
   "source": [
    "output = results(events)\n",
    "\n",
    "output"
   ]
  },
  {
   "cell_type": "markdown",
   "id": "bae97e36",
   "metadata": {},
   "source": [
    "Thanks to `hist` we can slo see nice Jupyter [`reprs`](https://docs.python.org/3/library/functions.html#repr) of the objects"
   ]
  },
  {
   "cell_type": "code",
   "execution_count": null,
   "id": "7a8aa878",
   "metadata": {},
   "outputs": [],
   "source": [
    "output[\"mass\"]"
   ]
  },
  {
   "cell_type": "code",
   "execution_count": null,
   "id": "299b1b98",
   "metadata": {},
   "outputs": [],
   "source": [
    "output[\"mass\"][sum, :]"
   ]
  },
  {
   "cell_type": "code",
   "execution_count": null,
   "id": "da52e360",
   "metadata": {},
   "outputs": [],
   "source": [
    "plot_dir = Path().cwd() / \"plots\"\n",
    "plot_dir.mkdir(exist_ok=True)"
   ]
  },
  {
   "cell_type": "code",
   "execution_count": null,
   "id": "3d9c83fd",
   "metadata": {},
   "outputs": [],
   "source": [
    "mplhep.style.use(mplhep.style.ATLAS)\n",
    "\n",
    "fig, ax = plt.subplots()\n",
    "\n",
    "output[\"mass\"][sum, :].plot1d(ax=ax, label=\"$ll$ mass\")\n",
    "ax.legend()\n",
    "\n",
    "fig.savefig(plot_dir / \"ll_mass.png\")"
   ]
  },
  {
   "cell_type": "code",
   "execution_count": null,
   "id": "760b6185",
   "metadata": {},
   "outputs": [],
   "source": [
    "fig, ax = plt.subplots()\n",
    "\n",
    "output[\"mass\"][\"ee\", :].plot1d(ax=ax, label=r\"$ee$\")\n",
    "output[\"mass\"][\"ee_same_sign\", :].plot1d(ax=ax, label=r\"$ee$ same sign\")\n",
    "ax.legend()\n",
    "\n",
    "fig.savefig(plot_dir / \"ee_mass.png\")"
   ]
  },
  {
   "cell_type": "code",
   "execution_count": null,
   "id": "b1214783-71d7-4602-852f-0a08606ffa23",
   "metadata": {},
   "outputs": [],
   "source": []
  }
 ],
 "metadata": {
  "jupytext": {
   "cell_metadata_filter": "-all",
   "main_language": "python",
   "notebook_metadata_filter": "-all"
  },
  "kernelspec": {
   "display_name": "Python 3 (ipykernel)",
   "language": "python",
   "name": "python3"
  },
  "language_info": {
   "codemirror_mode": {
    "name": "ipython",
    "version": 3
   },
   "file_extension": ".py",
   "mimetype": "text/x-python",
   "name": "python",
   "nbconvert_exporter": "python",
   "pygments_lexer": "ipython3",
   "version": "3.12.10"
  }
 },
 "nbformat": 4,
 "nbformat_minor": 5
}

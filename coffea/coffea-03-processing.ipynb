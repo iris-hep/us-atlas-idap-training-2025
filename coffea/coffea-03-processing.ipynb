{
 "cells": [
  {
   "cell_type": "markdown",
   "id": "6bf4cfc8",
   "metadata": {},
   "source": [
    "# Coffea Processors\n",
    "Coffea relies mainly on [uproot](https://github.com/scikit-hep/uproot) to provide access to ROOT files for analysis.\n",
    "As a usual analysis will involve processing tens to thousands of files, totalling gigabytes to terabytes of data, there is a certain amount of work to be done to build a parallelized framework to process the data in a reasonable amount of time.\n",
    "\n",
    "In coffea up to 0.7 (SemVer), a `coffea.processor` module was provided to encapsulate the core functionality of the analysis, which could be run locally or distributed via a number of Executors. This allowed users to worry just about the actual analysis code and not about how to implement efficient parallelization, assuming that the parallization is a trivial map-reduce operation (e.g. filling histograms and adding them together).\n",
    "\n",
    "In coffa 2024 (CalVer), integration with `dask` is deeper (via `dask_awkward` and `uproot.dask`), and whether an analysis is to be executed on local or distributed resources, a TaskGraph encapsulating the analysis is created (with a bypass functionality for an eager version still possible when the scale of your input data is sufficiently small). We will demonstrate how to use callable code to build these TGs.\n",
    "\n",
    "(Sidenote: with some adaptations for the new version of scikit-hep/coffea, a SemVer coffea processor module's `process` function can serve as the callable function - we will follow this model for convenience as we are transitioning from SemVer to CalVer coffea)\n",
    "\n",
    "\n",
    "Let's start by writing a simple processor class that reads some CMS open data and plots a dimuon mass spectrum.\n",
    "We'll start by copying the [ProcessorABC](https://coffeateam.github.io/coffea/api/coffea.processor.ProcessorABC.html#coffea.processor.ProcessorABC) skeleton and filling in some details:\n",
    "\n",
    " * Remove `flag`, as we won't use it\n",
    " * Adding a new histogram for $m_{\\mu \\mu}$\n",
    " * Building a [Candidate](https://coffeateam.github.io/coffea/api/coffea.nanoevents.methods.candidate.PtEtaPhiMCandidate.html#coffea.nanoevents.methods.candidate.PtEtaPhiMCandidate) record for muons, since we will read it with `BaseSchema` interpretation (the files used here could be read with `NanoAODSchema` but we want to show how to build vector objects from other TTree formats)\n",
    " * Calculating the dimuon invariant mass"
   ]
  },
  {
   "cell_type": "code",
   "execution_count": null,
   "id": "2fbf1c42",
   "metadata": {},
   "outputs": [],
   "source": [
    "import gzip\n",
    "import json\n",
    "from pathlib import Path\n",
    "\n",
    "import awkward as ak\n",
    "from coffea import processor\n",
    "from coffea.nanoevents.methods import candidate\n",
    "from hist import Hist"
   ]
  },
  {
   "cell_type": "code",
   "execution_count": null,
   "id": "a3dbabac",
   "metadata": {},
   "outputs": [],
   "source": [
    "class MyProcessor(processor.ProcessorABC):\n",
    "    def __init__(self):\n",
    "        pass\n",
    "\n",
    "    def process(self, events):\n",
    "        dataset = events.metadata[\"dataset\"]\n",
    "        muons = ak.zip(\n",
    "            {\n",
    "                \"pt\": events.Muon_pt,\n",
    "                \"eta\": events.Muon_eta,\n",
    "                \"phi\": events.Muon_phi,\n",
    "                \"mass\": events.Muon_mass,\n",
    "                \"charge\": events.Muon_charge,\n",
    "            },\n",
    "            with_name=\"PtEtaPhiMCandidate\",\n",
    "            behavior=candidate.behavior,\n",
    "        )\n",
    "\n",
    "        h_mass = (\n",
    "            Hist.new.StrCat([\"opposite\", \"same\"], name=\"sign\")\n",
    "            .Log(1000, 0.2, 200.0, name=\"mass\", label=r\"$m_{\\mu\\mu}$ [GeV]\")\n",
    "            .Int64()\n",
    "        )\n",
    "\n",
    "        cut = (ak.num(muons) == 2) & (ak.sum(muons.charge, axis=1) == 0)\n",
    "        # add first and second muon in every event together\n",
    "        dimuon = muons[cut][:, 0] + muons[cut][:, 1]\n",
    "        h_mass.fill(sign=\"opposite\", mass=dimuon.mass)\n",
    "\n",
    "        cut = (ak.num(muons) == 2) & (ak.sum(muons.charge, axis=1) != 0)\n",
    "        dimuon = muons[cut][:, 0] + muons[cut][:, 1]\n",
    "        h_mass.fill(sign=\"same\", mass=dimuon.mass)\n",
    "\n",
    "        return {\n",
    "            dataset: {\n",
    "                \"entries\": len(events),\n",
    "                \"mass\": h_mass,\n",
    "            }\n",
    "        }\n",
    "\n",
    "    def postprocess(self, accumulator):\n",
    "        pass"
   ]
  },
  {
   "cell_type": "markdown",
   "id": "b6bb2dd7",
   "metadata": {},
   "source": [
    "If we were to just use bare uproot to execute this processor, we could do that with the following example, which:\n",
    "\n",
    " * Opens a CMS open data file\n",
    " * Creates a NanoEvents object using `BaseSchema` (roughly equivalent to the output of `uproot.open(...).arrays()`)\n",
    " * Creates a `MyProcessor` instance\n",
    " * Runs the `process()` function, which returns our accumulators\n"
   ]
  },
  {
   "cell_type": "code",
   "execution_count": null,
   "id": "f989a2d9",
   "metadata": {},
   "outputs": [],
   "source": [
    "mumu_data_filename = \"root://xcache.af.uchicago.edu:1094//root://eospublic.cern.ch//eos/root-eos/cms_opendata_2012_nanoaod/Run2012B_DoubleMuParked.root\"\n",
    "mumu_data_filename = \"/Users/iason/fun/2021-07-06-pyhep-uproot-awkward-tutorial/data/Run2012B_DoubleMuParked.root\""
   ]
  },
  {
   "cell_type": "code",
   "execution_count": null,
   "id": "a5a1e29d",
   "metadata": {},
   "outputs": [],
   "source": [
    "from coffea.nanoevents import NanoEventsFactory, BaseSchema\n",
    "\n",
    "events = NanoEventsFactory.from_root(\n",
    "    {mumu_data_filename: \"Events\"},\n",
    "    entry_stop=10000,\n",
    "    metadata={\"dataset\": \"DoubleMuon\"},\n",
    "    schemaclass=BaseSchema,\n",
    ").events()\n",
    "p = MyProcessor()"
   ]
  },
  {
   "cell_type": "code",
   "execution_count": null,
   "id": "3a33cf4b",
   "metadata": {},
   "outputs": [],
   "source": [
    "%%time\n",
    "\n",
    "out = p.process(events)"
   ]
  },
  {
   "cell_type": "code",
   "execution_count": null,
   "id": "13b6b22e",
   "metadata": {},
   "outputs": [],
   "source": [
    "plot_dir = Path().cwd() / \"plots\"\n",
    "plot_dir.mkdir(exist_ok=True)"
   ]
  },
  {
   "cell_type": "code",
   "execution_count": null,
   "id": "278b0f27",
   "metadata": {},
   "outputs": [],
   "source": [
    "import matplotlib.pyplot as plt\n",
    "import mplhep\n",
    "\n",
    "mplhep.style.use(mplhep.style.ATLAS)\n",
    "\n",
    "fig, ax = plt.subplots()\n",
    "out[\"DoubleMuon\"][\"mass\"].plot1d(ax=ax)\n",
    "ax.set_xscale(\"log\")\n",
    "ax.legend(title=\"Dimuon charge\")\n",
    "\n",
    "fig.savefig(plot_dir / \"dimuon_charge.png\")"
   ]
  },
  {
   "cell_type": "markdown",
   "id": "1c97463f",
   "metadata": {},
   "source": [
    "# Filesets\n",
    "We'll need to construct a fileset to run over"
   ]
  },
  {
   "cell_type": "code",
   "execution_count": null,
   "id": "29a3b3de",
   "metadata": {},
   "outputs": [],
   "source": [
    "mumu_simulation_filename = \"root://xcache.af.uchicago.edu:1094//root://eospublic.cern.ch//eos/root-eos/cms_opendata_2012_nanoaod/ZZTo4mu.root\"\n",
    "mumu_simulation_filename = \"/Users/iason/fun/2021-07-06-pyhep-uproot-awkward-tutorial/data/HiggsZZ4mu.root\""
   ]
  },
  {
   "cell_type": "code",
   "execution_count": null,
   "id": "b96a6299",
   "metadata": {},
   "outputs": [],
   "source": [
    "initial_fileset = {\n",
    "    \"DoubleMuon\": {\n",
    "        \"files\": {\n",
    "            mumu_data_filename: \"Events\",\n",
    "        },\n",
    "        \"metadata\": {\n",
    "            \"is_mc\": False,\n",
    "        },\n",
    "    },\n",
    "    \"ZZ to 4mu\": {\n",
    "        \"files\": {\n",
    "            mumu_simulation_filename: \"Events\",\n",
    "        },\n",
    "        \"metadata\": {\n",
    "            \"is_mc\": True,\n",
    "        },\n",
    "    },\n",
    "}"
   ]
  },
  {
   "cell_type": "markdown",
   "id": "d9e561ab-6a79-4a2b-a854-5582d6f9f690",
   "metadata": {},
   "source": [
    "# Processing"
   ]
  },
  {
   "cell_type": "code",
   "execution_count": null,
   "id": "663aaf92-9508-4381-bba8-48ed6cae7f29",
   "metadata": {},
   "outputs": [],
   "source": [
    "%%time\n",
    "\n",
    "iterative_run = processor.Runner(\n",
    "    executor = processor.IterativeExecutor(compression=None),\n",
    "    schema=BaseSchema,\n",
    "    maxchunks=3,\n",
    "    savemetrics=True,\n",
    ")\n",
    "\n",
    "out, metrics = iterative_run(\n",
    "    initial_fileset,\n",
    "    processor_instance=MyProcessor(),\n",
    ")"
   ]
  },
  {
   "cell_type": "code",
   "execution_count": null,
   "id": "f53537ee-3bf4-403a-b4f2-e12f1cf90762",
   "metadata": {},
   "outputs": [],
   "source": [
    "out, metrics"
   ]
  },
  {
   "cell_type": "code",
   "execution_count": null,
   "id": "e74f5703-6306-43ab-bbff-83772fdf095f",
   "metadata": {},
   "outputs": [],
   "source": [
    "plot_dir = Path().cwd() / \"plots\"\n",
    "plot_dir.mkdir(exist_ok=True)"
   ]
  },
  {
   "cell_type": "code",
   "execution_count": null,
   "id": "4ea5d889-63de-44b8-b1f5-2b88baaf8df9",
   "metadata": {},
   "outputs": [],
   "source": [
    "mplhep.style.use(mplhep.style.ATLAS)\n",
    "\n",
    "fig, ax = plt.subplots()\n",
    "out[\"DoubleMuon\"][\"mass\"].plot1d(ax=ax)\n",
    "ax.set_xscale(\"log\")\n",
    "ax.legend(title=\"Dimuon charge\")\n",
    "\n",
    "fig.savefig(plot_dir / \"dimuon_charge.png\")"
   ]
  },
  {
   "cell_type": "markdown",
   "id": "f62e0b1e-eba4-4f84-8d36-e7d531e5eeab",
   "metadata": {},
   "source": [
    "Now, if we want to use more than a single core on our machine, we simply change `IterativeExecutor` for `FuturesExecutor`, which uses the python `concurrent.futures` standard library. We can then set the most interesting argument to the `FuturesExecutor`: the number of cores to use"
   ]
  },
  {
   "cell_type": "code",
   "execution_count": null,
   "id": "61684af6-c0d4-4f76-b975-181f7fb5fbb4",
   "metadata": {},
   "outputs": [],
   "source": [
    "%%time\n",
    "\n",
    "futures_run = processor.Runner(\n",
    "    executor = processor.FuturesExecutor(workers=4, compression=None),\n",
    "    schema=BaseSchema,\n",
    "    savemetrics=True,\n",
    ")\n",
    "\n",
    "out, metrics = futures_run(\n",
    "    initial_fileset,\n",
    "    processor_instance=MyProcessor()\n",
    ")"
   ]
  },
  {
   "cell_type": "code",
   "execution_count": null,
   "id": "2ed28c83-c9bd-4dfa-a059-3aa92ad6e571",
   "metadata": {},
   "outputs": [],
   "source": [
    "out, metrics"
   ]
  },
  {
   "cell_type": "code",
   "execution_count": null,
   "id": "ab6ec315",
   "metadata": {},
   "outputs": [],
   "source": [
    "plot_dir = Path().cwd() / \"plots\"\n",
    "plot_dir.mkdir(exist_ok=True)"
   ]
  },
  {
   "cell_type": "code",
   "execution_count": null,
   "id": "a0885bdc",
   "metadata": {},
   "outputs": [],
   "source": [
    "mplhep.style.use(mplhep.style.ATLAS)\n",
    "\n",
    "fig, ax = plt.subplots()\n",
    "out[\"DoubleMuon\"][\"mass\"].plot1d(ax=ax)\n",
    "ax.set_xscale(\"log\")\n",
    "ax.legend(title=\"Dimuon charge\")\n",
    "\n",
    "fig.savefig(plot_dir / \"dimuon_charge.png\")"
   ]
  },
  {
   "cell_type": "code",
   "execution_count": null,
   "id": "0c358706-66ac-4969-840a-eff2db698664",
   "metadata": {},
   "outputs": [],
   "source": []
  }
 ],
 "metadata": {
  "jupytext": {
   "cell_metadata_filter": "-all",
   "main_language": "python",
   "notebook_metadata_filter": "-all"
  },
  "kernelspec": {
   "display_name": "Python 3 (ipykernel)",
   "language": "python",
   "name": "python3"
  },
  "language_info": {
   "codemirror_mode": {
    "name": "ipython",
    "version": 3
   },
   "file_extension": ".py",
   "mimetype": "text/x-python",
   "name": "python",
   "nbconvert_exporter": "python",
   "pygments_lexer": "ipython3",
   "version": "3.12.10"
  }
 },
 "nbformat": 4,
 "nbformat_minor": 5
}

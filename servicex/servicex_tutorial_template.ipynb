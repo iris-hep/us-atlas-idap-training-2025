{
 "cells": [
  {
   "cell_type": "markdown",
   "metadata": {},
   "source": [
    "<h1 style=\"text-align: center;\"><img src=\"img/logo_servicex.png\" width=\"70\" height=\"70\" style=\"float:left\" alt=\"ServiceX\"><img src=\"img/logo_irishep.png\" width=\"70\" height=\"70\" style=\"float:right\" alt=\"IRIS-HEP\">IRIS-HEP ServiceX Tutorial</h1>"
   ]
  },
  {
   "cell_type": "markdown",
   "metadata": {},
   "source": [
    "<h4 style=\"text-align: center;\">[Artur Cordeiro Oudot Choi] (IRIS-HEP)</h4><h4 style=\"text-align: center;\">IRIS-HEP Analysis Software Training Event (July 2025)</h4>"
   ]
  },
  {
   "cell_type": "markdown",
   "metadata": {},
   "source": [
    "---"
   ]
  },
  {
   "cell_type": "markdown",
   "metadata": {},
   "source": [
    "## 1 – Introduction to ServiceX\n",
    "\n",
    "- **Managing Datasets for physics at the LHC**\n",
    " \n",
    "  The experimental data and simulations needed for full-scale analyses at LHC experiments are too large to be stored locally. Only fractions of such datasets (DS) are downloaded to accessible user storage for small projects / R&D purposes.\n",
    "\n",
    "  The current DS management workflow of physics analyses consists of:\n",
    "  - Requests for large storage spaces for each analysis team (`eos`, `groupsdisk`)\n",
    "  - Institute-provided machines\n",
    "  - Sending ntuplizer jobs on the grid to skim DS\n",
    "      -  event pre-selection, triggers, working points\n",
    "      -  High-level variable construction, dropping low-level information\n",
    "  - Downloading full or partial DS with `rucio`\n",
    "  - Managing all productions\n",
    "      - Deleting older files\n",
    "      - requesting DS persistence exceptions\n",
    "      - requesting larger group storage\n",
    "\n",
    "\n",
    "\n",
    "- **What is ServiceX**?\n",
    "\n",
    "  ServiceX is a data transformation and delivery system that simplifies the data access workflow for physics analyses. The system is deployed on a Kubernetes cluster, allowing quick and scalable operations with parallel transformers and access to multiple services.\n",
    "  It is a project of IRIS-HEP DOMA (Data Organization, Management And Access) to interface centrally produced datasets and user-level analysis code for the HL-LHC. Larger data volumes will pose more difficulty for physics analyses.\n",
    "  \n",
    "  ServiceX offers physicists the possibility to :\n",
    "    - Pull only the columns or features needed, without having to download multi-TB files or run grid jobs.\n",
    "    - Apply cuts to data, delivering only a portion of events\n",
    "        - Quickly prototype cutflows\n",
    "        - Target studies on unusual events, calibration errors... \n",
    "    - Integrate analyses in a Python-based framework (`coffea` , `RDataFrame`)\n",
    "    - Work with multiple data formats on the same system (xAOD, DAOD, Ntuple Trees, RNTP, parquet)\n",
    "    - Access different storage (`rucio`, `eos`, `CernOpenData`)\n",
    "    - Run only a lightweight python package and not a large ATLAS software environment on remote machines.\n",
    "    - Apply complex transformations on just a few lines of code\n",
    "\n",
    "    \n",
    "\n",
    " - **How does it work?**\n",
    "   \n",
    "     - Query-based data transformation and delivery: Users send HTTPS requests to the ServiceX Web API using the [client library](https://github.com/ssl-hep/ServiceX_frontend). Each request contains an input sample name and all cuts/ data transformations to be dumped in the result file.\n",
    "  \n",
    "     - Remote data access: The Web API sends the requested sample name to a Dataset Finder service which sotres it via the Grid or XRootD to an XCache. ServiceX can also be deployed on a grid site which would maximize bandwith. \n",
    "  \n",
    "     - Code Generation: The generated code is built from the query specifications sent to the Web API. ServiceX builds this Python or C++ code by leveraging abstract syntax trees and functional programming. This means users can express complex data processing in a few lines. Multiple query types are available with different syntax/code translation. Additionaly, one can instead send a custom python function to be executed in the backend.\n",
    "\n",
    "     - Transformers and science images: To execute the generated code, kubernetes deploys transformer pods. Depending on the request, these pods require different environments. Each query type has its science image used to build containers. These can include python environements with awkward, uproot, RDataFrame and Root or Atlas software like AnalysisBase or TopCPToolkit...  The number of transformers deployed for one request scales with the number of files to be acessed in the requested dataset. By parallelizing the work of multiple files and merging the outputs, servicex delivers the results fast.\n",
    "  \n",
    "     - Object store: Transformed outputs are written to an S3-compatible store; users download just URLs or files as they become available.\n",
    "\n",
    "\n",
    "    (insert your diagram of the client → ServiceX API → transformer pods flow.)\n",
    "\n",
    " \n",
    "- **Minimal setup**\n",
    "  \n",
    "    - ServiceX Front-end: A minimal Python library (client API), for defining queries and sending HTTPS queries to the web api\n",
    "    - ServiceX Back-end: The kubernetes system containing all microservices in static pods and transformer pods that execute the data transformation. This is deployed at an analysis facility. \n",
    "\n",
    "  As a user you only interact with the client API (python script or with command lines) but you need a token that grants access to one end-point. \n",
    "\n",
    "This simple setup means that you can run ServiceX from anywhere: laptops, office machine, jupyter hub... \n",
    "\n",
    "For any information on the client API please check the [documentation](https://servicex-frontend.readthedocs.io)\n",
    "\n",
    "\n",
    "![Transformer Diagram Placeholder](img/placeholder_transformer.png)\n",
    "![Data Flow Placeholder](img/placeholder_dataflow.png)"
   ]
  },
  {
   "cell_type": "markdown",
   "metadata": {},
   "source": [
    "The rest of this notebook is a hands on Tutorial\n",
    "\n",
    "For ATLAS users the end-point is at af.UChicago. Download your `servicex.yaml` from the ServiceX web portal."
   ]
  },
  {
   "cell_type": "markdown",
   "metadata": {},
   "source": [
    "## 2 – Installation"
   ]
  },
  {
   "cell_type": "markdown",
   "metadata": {},
   "source": [
    "### 2a - Client package\n",
    "\n",
    "\n",
    "ServiceX Front end explanation :"
   ]
  },
  {
   "cell_type": "code",
   "execution_count": 1,
   "metadata": {
    "scrolled": true
   },
   "outputs": [
    {
     "name": "stdout",
     "output_type": "stream",
     "text": [
      "Requirement already satisfied: servicex in /venv/lib/python3.11/site-packages (3.1.0)\n",
      "Requirement already satisfied: aiofile in /venv/lib/python3.11/site-packages (from servicex) (3.8.8)\n",
      "Requirement already satisfied: aiohttp-retry>=2.8.3 in /venv/lib/python3.11/site-packages (from servicex) (2.8.3)\n",
      "Requirement already satisfied: filelock>=3.12.0 in /venv/lib/python3.11/site-packages (from servicex) (3.15.4)\n",
      "Requirement already satisfied: func-adl>=3.2.6 in /venv/lib/python3.11/site-packages (from servicex) (3.3.1)\n",
      "Requirement already satisfied: google-auth>=2.17 in /venv/lib/python3.11/site-packages (from servicex) (2.34.0)\n",
      "Requirement already satisfied: httpx>=0.24 in /venv/lib/python3.11/site-packages (from servicex) (0.27.2)\n",
      "Requirement already satisfied: make-it-sync in /venv/lib/python3.11/site-packages (from servicex) (2.0.0)\n",
      "Requirement already satisfied: miniopy-async>=1.20.1 in /venv/lib/python3.11/site-packages (from servicex) (1.21.1)\n",
      "Requirement already satisfied: pydantic>=2.6.0 in /venv/lib/python3.11/site-packages (from servicex) (2.9.0)\n",
      "Requirement already satisfied: pyyaml>=6.0 in /venv/lib/python3.11/site-packages (from servicex) (6.0.2)\n",
      "Requirement already satisfied: qastle>=0.17 in /venv/lib/python3.11/site-packages (from servicex) (0.17.0)\n",
      "Requirement already satisfied: requests>=2.31 in /venv/lib/python3.11/site-packages (from servicex) (2.32.3)\n",
      "Requirement already satisfied: rich>=13.0.0 in /venv/lib/python3.11/site-packages (from servicex) (13.8.0)\n",
      "Requirement already satisfied: ruamel-yaml>=0.18.7 in /venv/lib/python3.11/site-packages (from servicex) (0.18.10)\n",
      "Requirement already satisfied: tenacity>=9.0.0 in /venv/lib/python3.11/site-packages (from servicex) (9.0.0)\n",
      "Requirement already satisfied: tinydb>=4.7 in /venv/lib/python3.11/site-packages (from servicex) (4.8.0)\n",
      "Requirement already satisfied: typer>=0.12.1 in /venv/lib/python3.11/site-packages (from servicex) (0.12.5)\n",
      "Requirement already satisfied: types-pyyaml>=6.0 in /venv/lib/python3.11/site-packages (from servicex) (6.0.12.20240808)\n",
      "Requirement already satisfied: aiohttp in /venv/lib/python3.11/site-packages (from aiohttp-retry>=2.8.3->servicex) (3.10.5)\n",
      "Requirement already satisfied: cachetools<6.0,>=2.0.0 in /venv/lib/python3.11/site-packages (from google-auth>=2.17->servicex) (5.5.0)\n",
      "Requirement already satisfied: pyasn1-modules>=0.2.1 in /venv/lib/python3.11/site-packages (from google-auth>=2.17->servicex) (0.4.0)\n",
      "Requirement already satisfied: rsa<5,>=3.1.4 in /venv/lib/python3.11/site-packages (from google-auth>=2.17->servicex) (4.9)\n",
      "Requirement already satisfied: anyio in /venv/lib/python3.11/site-packages (from httpx>=0.24->servicex) (4.4.0)\n",
      "Requirement already satisfied: certifi in /venv/lib/python3.11/site-packages (from httpx>=0.24->servicex) (2024.8.30)\n",
      "Requirement already satisfied: httpcore==1.* in /venv/lib/python3.11/site-packages (from httpx>=0.24->servicex) (1.0.5)\n",
      "Requirement already satisfied: idna in /venv/lib/python3.11/site-packages (from httpx>=0.24->servicex) (3.8)\n",
      "Requirement already satisfied: sniffio in /venv/lib/python3.11/site-packages (from httpx>=0.24->servicex) (1.3.1)\n",
      "Requirement already satisfied: h11<0.15,>=0.13 in /venv/lib/python3.11/site-packages (from httpcore==1.*->httpx>=0.24->servicex) (0.14.0)\n",
      "Requirement already satisfied: urllib3 in /venv/lib/python3.11/site-packages (from miniopy-async>=1.20.1->servicex) (1.26.20)\n",
      "Requirement already satisfied: annotated-types>=0.4.0 in /venv/lib/python3.11/site-packages (from pydantic>=2.6.0->servicex) (0.7.0)\n",
      "Requirement already satisfied: pydantic-core==2.23.2 in /venv/lib/python3.11/site-packages (from pydantic>=2.6.0->servicex) (2.23.2)\n",
      "Requirement already satisfied: typing-extensions>=4.6.1 in /venv/lib/python3.11/site-packages (from pydantic>=2.6.0->servicex) (4.12.2)\n",
      "Requirement already satisfied: tzdata in /venv/lib/python3.11/site-packages (from pydantic>=2.6.0->servicex) (2024.1)\n",
      "Requirement already satisfied: lark in /venv/lib/python3.11/site-packages (from qastle>=0.17->servicex) (1.2.2)\n",
      "Requirement already satisfied: charset-normalizer<4,>=2 in /venv/lib/python3.11/site-packages (from requests>=2.31->servicex) (3.3.2)\n",
      "Requirement already satisfied: markdown-it-py>=2.2.0 in /venv/lib/python3.11/site-packages (from rich>=13.0.0->servicex) (3.0.0)\n",
      "Requirement already satisfied: pygments<3.0.0,>=2.13.0 in /venv/lib/python3.11/site-packages (from rich>=13.0.0->servicex) (2.18.0)\n",
      "Requirement already satisfied: ruamel.yaml.clib>=0.2.7 in /venv/lib/python3.11/site-packages (from ruamel-yaml>=0.18.7->servicex) (0.2.8)\n",
      "Requirement already satisfied: click>=8.0.0 in /venv/lib/python3.11/site-packages (from typer>=0.12.1->servicex) (8.1.7)\n",
      "Requirement already satisfied: shellingham>=1.3.0 in /venv/lib/python3.11/site-packages (from typer>=0.12.1->servicex) (1.5.4)\n",
      "Requirement already satisfied: caio~=0.9.0 in /venv/lib/python3.11/site-packages (from aiofile->servicex) (0.9.17)\n",
      "Requirement already satisfied: mdurl~=0.1 in /venv/lib/python3.11/site-packages (from markdown-it-py>=2.2.0->rich>=13.0.0->servicex) (0.1.2)\n",
      "Requirement already satisfied: pyasn1<0.7.0,>=0.4.6 in /venv/lib/python3.11/site-packages (from pyasn1-modules>=0.2.1->google-auth>=2.17->servicex) (0.6.0)\n",
      "Requirement already satisfied: aiohappyeyeballs>=2.3.0 in /venv/lib/python3.11/site-packages (from aiohttp->aiohttp-retry>=2.8.3->servicex) (2.4.0)\n",
      "Requirement already satisfied: aiosignal>=1.1.2 in /venv/lib/python3.11/site-packages (from aiohttp->aiohttp-retry>=2.8.3->servicex) (1.3.1)\n",
      "Requirement already satisfied: attrs>=17.3.0 in /venv/lib/python3.11/site-packages (from aiohttp->aiohttp-retry>=2.8.3->servicex) (24.2.0)\n",
      "Requirement already satisfied: frozenlist>=1.1.1 in /venv/lib/python3.11/site-packages (from aiohttp->aiohttp-retry>=2.8.3->servicex) (1.4.1)\n",
      "Requirement already satisfied: multidict<7.0,>=4.5 in /venv/lib/python3.11/site-packages (from aiohttp->aiohttp-retry>=2.8.3->servicex) (6.0.5)\n",
      "Requirement already satisfied: yarl<2.0,>=1.0 in /venv/lib/python3.11/site-packages (from aiohttp->aiohttp-retry>=2.8.3->servicex) (1.9.11)\n"
     ]
    }
   ],
   "source": [
    "!pip install servicex"
   ]
  },
  {
   "cell_type": "markdown",
   "metadata": {},
   "source": [
    "### 2b - Utilities package\n",
    "\n",
    "\n",
    "ServiceX analysis utils explanation :"
   ]
  },
  {
   "cell_type": "code",
   "execution_count": 2,
   "metadata": {
    "scrolled": true
   },
   "outputs": [
    {
     "name": "stdout",
     "output_type": "stream",
     "text": [
      "Collecting servicex_analysis_utils\n",
      "  Using cached servicex_analysis_utils-1.0.3-py3-none-any.whl.metadata (3.0 kB)\n",
      "Requirement already satisfied: awkward>=2.6 in /venv/lib/python3.11/site-packages (from servicex_analysis_utils) (2.6.7)\n",
      "Requirement already satisfied: dask-awkward>=2024.12.2 in /venv/lib/python3.11/site-packages (from servicex_analysis_utils) (2024.12.2)\n",
      "Requirement already satisfied: servicex in /venv/lib/python3.11/site-packages (from servicex_analysis_utils) (3.1.0)\n",
      "Requirement already satisfied: uproot>=5.0 in /venv/lib/python3.11/site-packages (from servicex_analysis_utils) (5.5.1)\n",
      "Requirement already satisfied: awkward-cpp==37 in /venv/lib/python3.11/site-packages (from awkward>=2.6->servicex_analysis_utils) (37)\n",
      "Requirement already satisfied: fsspec>=2022.11.0 in /venv/lib/python3.11/site-packages (from awkward>=2.6->servicex_analysis_utils) (2024.9.0)\n",
      "Requirement already satisfied: importlib-metadata>=4.13.0 in /venv/lib/python3.11/site-packages (from awkward>=2.6->servicex_analysis_utils) (8.4.0)\n",
      "Requirement already satisfied: numpy>=1.18.0 in /usr/AnalysisBaseExternals/25.2.30/InstallArea/x86_64-el9-gcc13-opt/lib/python3.11/site-packages (from awkward>=2.6->servicex_analysis_utils) (1.26.4)\n",
      "Requirement already satisfied: packaging in /venv/lib/python3.11/site-packages (from awkward>=2.6->servicex_analysis_utils) (24.1)\n",
      "Requirement already satisfied: cachetools in /venv/lib/python3.11/site-packages (from dask-awkward>=2024.12.2->servicex_analysis_utils) (5.5.0)\n",
      "Requirement already satisfied: dask>=2023.04.0 in /venv/lib/python3.11/site-packages (from dask-awkward>=2024.12.2->servicex_analysis_utils) (2024.4.2)\n",
      "Requirement already satisfied: typing-extensions>=4.8.0 in /venv/lib/python3.11/site-packages (from dask-awkward>=2024.12.2->servicex_analysis_utils) (4.12.2)\n",
      "Requirement already satisfied: cramjam>=2.5.0 in /venv/lib/python3.11/site-packages (from uproot>=5.0->servicex_analysis_utils) (2.8.3)\n",
      "Requirement already satisfied: xxhash in /venv/lib/python3.11/site-packages (from uproot>=5.0->servicex_analysis_utils) (3.5.0)\n",
      "Requirement already satisfied: aiofile in /venv/lib/python3.11/site-packages (from servicex->servicex_analysis_utils) (3.8.8)\n",
      "Requirement already satisfied: aiohttp-retry>=2.8.3 in /venv/lib/python3.11/site-packages (from servicex->servicex_analysis_utils) (2.8.3)\n",
      "Requirement already satisfied: filelock>=3.12.0 in /venv/lib/python3.11/site-packages (from servicex->servicex_analysis_utils) (3.15.4)\n",
      "Requirement already satisfied: func-adl>=3.2.6 in /venv/lib/python3.11/site-packages (from servicex->servicex_analysis_utils) (3.3.1)\n",
      "Requirement already satisfied: google-auth>=2.17 in /venv/lib/python3.11/site-packages (from servicex->servicex_analysis_utils) (2.34.0)\n",
      "Requirement already satisfied: httpx>=0.24 in /venv/lib/python3.11/site-packages (from servicex->servicex_analysis_utils) (0.27.2)\n",
      "Requirement already satisfied: make-it-sync in /venv/lib/python3.11/site-packages (from servicex->servicex_analysis_utils) (2.0.0)\n",
      "Requirement already satisfied: miniopy-async>=1.20.1 in /venv/lib/python3.11/site-packages (from servicex->servicex_analysis_utils) (1.21.1)\n",
      "Requirement already satisfied: pydantic>=2.6.0 in /venv/lib/python3.11/site-packages (from servicex->servicex_analysis_utils) (2.9.0)\n",
      "Requirement already satisfied: pyyaml>=6.0 in /venv/lib/python3.11/site-packages (from servicex->servicex_analysis_utils) (6.0.2)\n",
      "Requirement already satisfied: qastle>=0.17 in /venv/lib/python3.11/site-packages (from servicex->servicex_analysis_utils) (0.17.0)\n",
      "Requirement already satisfied: requests>=2.31 in /venv/lib/python3.11/site-packages (from servicex->servicex_analysis_utils) (2.32.3)\n",
      "Requirement already satisfied: rich>=13.0.0 in /venv/lib/python3.11/site-packages (from servicex->servicex_analysis_utils) (13.8.0)\n",
      "Requirement already satisfied: ruamel-yaml>=0.18.7 in /venv/lib/python3.11/site-packages (from servicex->servicex_analysis_utils) (0.18.10)\n",
      "Requirement already satisfied: tenacity>=9.0.0 in /venv/lib/python3.11/site-packages (from servicex->servicex_analysis_utils) (9.0.0)\n",
      "Requirement already satisfied: tinydb>=4.7 in /venv/lib/python3.11/site-packages (from servicex->servicex_analysis_utils) (4.8.0)\n",
      "Requirement already satisfied: typer>=0.12.1 in /venv/lib/python3.11/site-packages (from servicex->servicex_analysis_utils) (0.12.5)\n",
      "Requirement already satisfied: types-pyyaml>=6.0 in /venv/lib/python3.11/site-packages (from servicex->servicex_analysis_utils) (6.0.12.20240808)\n",
      "Requirement already satisfied: aiohttp in /venv/lib/python3.11/site-packages (from aiohttp-retry>=2.8.3->servicex->servicex_analysis_utils) (3.10.5)\n",
      "Requirement already satisfied: click>=8.1 in /venv/lib/python3.11/site-packages (from dask>=2023.04.0->dask-awkward>=2024.12.2->servicex_analysis_utils) (8.1.7)\n",
      "Requirement already satisfied: cloudpickle>=1.5.0 in /venv/lib/python3.11/site-packages (from dask>=2023.04.0->dask-awkward>=2024.12.2->servicex_analysis_utils) (3.0.0)\n",
      "Requirement already satisfied: partd>=1.2.0 in /venv/lib/python3.11/site-packages (from dask>=2023.04.0->dask-awkward>=2024.12.2->servicex_analysis_utils) (1.4.2)\n",
      "Requirement already satisfied: toolz>=0.10.0 in /venv/lib/python3.11/site-packages (from dask>=2023.04.0->dask-awkward>=2024.12.2->servicex_analysis_utils) (0.12.1)\n",
      "Requirement already satisfied: pyasn1-modules>=0.2.1 in /venv/lib/python3.11/site-packages (from google-auth>=2.17->servicex->servicex_analysis_utils) (0.4.0)\n",
      "Requirement already satisfied: rsa<5,>=3.1.4 in /venv/lib/python3.11/site-packages (from google-auth>=2.17->servicex->servicex_analysis_utils) (4.9)\n",
      "Requirement already satisfied: anyio in /venv/lib/python3.11/site-packages (from httpx>=0.24->servicex->servicex_analysis_utils) (4.4.0)\n",
      "Requirement already satisfied: certifi in /venv/lib/python3.11/site-packages (from httpx>=0.24->servicex->servicex_analysis_utils) (2024.8.30)\n",
      "Requirement already satisfied: httpcore==1.* in /venv/lib/python3.11/site-packages (from httpx>=0.24->servicex->servicex_analysis_utils) (1.0.5)\n",
      "Requirement already satisfied: idna in /venv/lib/python3.11/site-packages (from httpx>=0.24->servicex->servicex_analysis_utils) (3.8)\n",
      "Requirement already satisfied: sniffio in /venv/lib/python3.11/site-packages (from httpx>=0.24->servicex->servicex_analysis_utils) (1.3.1)\n",
      "Requirement already satisfied: h11<0.15,>=0.13 in /venv/lib/python3.11/site-packages (from httpcore==1.*->httpx>=0.24->servicex->servicex_analysis_utils) (0.14.0)\n",
      "Requirement already satisfied: zipp>=0.5 in /venv/lib/python3.11/site-packages (from importlib-metadata>=4.13.0->awkward>=2.6->servicex_analysis_utils) (3.20.1)\n",
      "Requirement already satisfied: urllib3 in /venv/lib/python3.11/site-packages (from miniopy-async>=1.20.1->servicex->servicex_analysis_utils) (1.26.20)\n",
      "Requirement already satisfied: annotated-types>=0.4.0 in /venv/lib/python3.11/site-packages (from pydantic>=2.6.0->servicex->servicex_analysis_utils) (0.7.0)\n",
      "Requirement already satisfied: pydantic-core==2.23.2 in /venv/lib/python3.11/site-packages (from pydantic>=2.6.0->servicex->servicex_analysis_utils) (2.23.2)\n",
      "Requirement already satisfied: tzdata in /venv/lib/python3.11/site-packages (from pydantic>=2.6.0->servicex->servicex_analysis_utils) (2024.1)\n",
      "Requirement already satisfied: lark in /venv/lib/python3.11/site-packages (from qastle>=0.17->servicex->servicex_analysis_utils) (1.2.2)\n",
      "Requirement already satisfied: charset-normalizer<4,>=2 in /venv/lib/python3.11/site-packages (from requests>=2.31->servicex->servicex_analysis_utils) (3.3.2)\n",
      "Requirement already satisfied: markdown-it-py>=2.2.0 in /venv/lib/python3.11/site-packages (from rich>=13.0.0->servicex->servicex_analysis_utils) (3.0.0)\n",
      "Requirement already satisfied: pygments<3.0.0,>=2.13.0 in /venv/lib/python3.11/site-packages (from rich>=13.0.0->servicex->servicex_analysis_utils) (2.18.0)\n",
      "Requirement already satisfied: ruamel.yaml.clib>=0.2.7 in /venv/lib/python3.11/site-packages (from ruamel-yaml>=0.18.7->servicex->servicex_analysis_utils) (0.2.8)\n",
      "Requirement already satisfied: shellingham>=1.3.0 in /venv/lib/python3.11/site-packages (from typer>=0.12.1->servicex->servicex_analysis_utils) (1.5.4)\n",
      "Requirement already satisfied: caio~=0.9.0 in /venv/lib/python3.11/site-packages (from aiofile->servicex->servicex_analysis_utils) (0.9.17)\n",
      "Requirement already satisfied: mdurl~=0.1 in /venv/lib/python3.11/site-packages (from markdown-it-py>=2.2.0->rich>=13.0.0->servicex->servicex_analysis_utils) (0.1.2)\n",
      "Requirement already satisfied: locket in /venv/lib/python3.11/site-packages (from partd>=1.2.0->dask>=2023.04.0->dask-awkward>=2024.12.2->servicex_analysis_utils) (1.0.0)\n",
      "Requirement already satisfied: pyasn1<0.7.0,>=0.4.6 in /venv/lib/python3.11/site-packages (from pyasn1-modules>=0.2.1->google-auth>=2.17->servicex->servicex_analysis_utils) (0.6.0)\n",
      "Requirement already satisfied: aiohappyeyeballs>=2.3.0 in /venv/lib/python3.11/site-packages (from aiohttp->aiohttp-retry>=2.8.3->servicex->servicex_analysis_utils) (2.4.0)\n",
      "Requirement already satisfied: aiosignal>=1.1.2 in /venv/lib/python3.11/site-packages (from aiohttp->aiohttp-retry>=2.8.3->servicex->servicex_analysis_utils) (1.3.1)\n",
      "Requirement already satisfied: attrs>=17.3.0 in /venv/lib/python3.11/site-packages (from aiohttp->aiohttp-retry>=2.8.3->servicex->servicex_analysis_utils) (24.2.0)\n",
      "Requirement already satisfied: frozenlist>=1.1.1 in /venv/lib/python3.11/site-packages (from aiohttp->aiohttp-retry>=2.8.3->servicex->servicex_analysis_utils) (1.4.1)\n",
      "Requirement already satisfied: multidict<7.0,>=4.5 in /venv/lib/python3.11/site-packages (from aiohttp->aiohttp-retry>=2.8.3->servicex->servicex_analysis_utils) (6.0.5)\n",
      "Requirement already satisfied: yarl<2.0,>=1.0 in /venv/lib/python3.11/site-packages (from aiohttp->aiohttp-retry>=2.8.3->servicex->servicex_analysis_utils) (1.9.11)\n",
      "Using cached servicex_analysis_utils-1.0.3-py3-none-any.whl (11 kB)\n",
      "Installing collected packages: servicex_analysis_utils\n",
      "Successfully installed servicex_analysis_utils-1.0.3\n"
     ]
    }
   ],
   "source": [
    "!pip install servicex_analysis_utils"
   ]
  },
  {
   "cell_type": "markdown",
   "metadata": {},
   "source": [
    "### 2c - Access to endpoint\n",
    "\n",
    "\n",
    "ServiceX at Uchicago explanation + now can create account with CERN SSO ATLAS :"
   ]
  },
  {
   "cell_type": "code",
   "execution_count": 3,
   "metadata": {},
   "outputs": [],
   "source": [
    "import os\n",
    "assert os.path.exists('servicex.yaml'), 'servicex.yaml not found in working directory'"
   ]
  },
  {
   "cell_type": "markdown",
   "metadata": {},
   "source": [
    "## 3 – Building Your First ServiceX Request\n"
   ]
  },
  {
   "cell_type": "code",
   "execution_count": 4,
   "metadata": {},
   "outputs": [],
   "source": [
    "#Import needed packages \n",
    "from servicex import deliver, query, dataset\n",
    "from servicex_analysis_utils import to_awk"
   ]
  },
  {
   "cell_type": "markdown",
   "metadata": {},
   "source": [
    "### 3.1 Runing a python function in the backend\n",
    "Amongsts the different trasnformer types ServiceX provides trasnformer that distribute a user-written python function with uproot and awkward  "
   ]
  },
  {
   "cell_type": "markdown",
   "metadata": {},
   "source": [
    "#### a - Building the query event selection"
   ]
  },
  {
   "cell_type": "code",
   "execution_count": 5,
   "metadata": {},
   "outputs": [],
   "source": [
    "#The user function\n",
    "\n",
    "def run_query(input_filenames):\n",
    "    import uproot\n",
    "    import awkward as ak\n",
    "    \"\"\"\n",
    "    input_filenames : \n",
    "        The dataset specified in the query\n",
    "    treename : str\n",
    "      Name of the TTree inside each file\n",
    "    Returns\n",
    "    -------\n",
    "    ak.Array with fields truth_alp_decayVtxX, truth_alp_decayVtxY, jet_pt_NOSYS\n",
    "    for events passing the selection cuts\n",
    "\n",
    "    Will be sent to ServiceX's object store\n",
    "    \"\"\"\n",
    "    # 1) Load the branches into a single awkward array\n",
    "    treename=\"reco\"\n",
    "    branches = [\n",
    "        \"truth_alp_decayVtxX\",\n",
    "        \"truth_alp_decayVtxY\",\n",
    "        \"truth_alp_pt\",\n",
    "        \"truth_alp_eta\",\n",
    "        \"jet_EMFrac_NOSYS\", \n",
    "        \"jet_pt_NOSYS\",\n",
    "    ]\n",
    "    # uproot.open accepts a glob or list\n",
    "    with uproot.open(input_filenames) as f:\n",
    "        tree = f[treename]\n",
    "        arr = tree.arrays(branches, library=\"ak\")\n",
    "\n",
    "    # 2) Build the mask\n",
    "    mask = ak.ravel(\n",
    "        (abs(arr[\"truth_alp_eta\"]) < 0.8) &\n",
    "        (arr[\"truth_alp_pt\"] > 20) &\n",
    "        (ak.num(arr[\"jet_EMFrac_NOSYS\"]) < 2)\n",
    "    )\n",
    "\n",
    "    # 3) Zip only the three output fields, applying the mask\n",
    "    out = ak.zip({\n",
    "        \"truth_alp_decayVtxX\": arr[\"truth_alp_decayVtxX\"][mask],\n",
    "        \"truth_alp_decayVtxY\": arr[\"truth_alp_decayVtxY\"][mask],\n",
    "        \"jet_EMFrac_NOSYS\":       arr[\"jet_EMFrac_NOSYS\"][mask]\n",
    "    }, depth_limit=1)\n",
    "\n",
    "    return out"
   ]
  },
  {
   "cell_type": "code",
   "execution_count": 6,
   "metadata": {},
   "outputs": [],
   "source": [
    "python_query=query.PythonFunction().with_uproot_function(run_query)"
   ]
  },
  {
   "cell_type": "markdown",
   "metadata": {},
   "source": [
    "#### b - Selecting the dataset"
   ]
  },
  {
   "cell_type": "code",
   "execution_count": 7,
   "metadata": {},
   "outputs": [],
   "source": [
    "my_DS=\"user.acordeir:michigan-tutorial.displaced-signal.root\" \n",
    "#In CERN Scratch Disk\n",
    "request_DS=dataset.Rucio(my_DS)"
   ]
  },
  {
   "cell_type": "markdown",
   "metadata": {},
   "source": [
    "#### c - Build the ServiceX request spec"
   ]
  },
  {
   "cell_type": "code",
   "execution_count": 8,
   "metadata": {},
   "outputs": [],
   "source": [
    "# Define a simple query\n",
    "spec = {\n",
    "    'Sample': [{\n",
    "        'Name': 'My_first_transform',\n",
    "        'Dataset': request_DS,\n",
    "        'Query': python_query\n",
    "    }]\n",
    "}"
   ]
  },
  {
   "cell_type": "markdown",
   "metadata": {},
   "source": [
    "d - Send the request to the Web API"
   ]
  },
  {
   "cell_type": "code",
   "execution_count": 9,
   "metadata": {},
   "outputs": [
    {
     "data": {
      "application/vnd.jupyter.widget-view+json": {
       "model_id": "ba6e4183f5c148459a035381a44f134c",
       "version_major": 2,
       "version_minor": 0
      },
      "text/plain": [
       "Output()"
      ]
     },
     "metadata": {},
     "output_type": "display_data"
    },
    {
     "data": {
      "text/html": [
       "<pre style=\"white-space:pre;overflow-x:auto;line-height:normal;font-family:Menlo,'DejaVu Sans Mono',consolas,'Courier New',monospace\"></pre>\n"
      ],
      "text/plain": []
     },
     "metadata": {},
     "output_type": "display_data"
    }
   ],
   "source": [
    "# Deliver the request\n",
    "transformed_results = deliver(spec)"
   ]
  },
  {
   "cell_type": "markdown",
   "metadata": {},
   "source": [
    "By default, ServiceX results are downloaded from the object store into the user's cache `tmp/servicex_$user/`"
   ]
  },
  {
   "cell_type": "code",
   "execution_count": 42,
   "metadata": {},
   "outputs": [
    {
     "name": "stdout",
     "output_type": "stream",
     "text": [
      "{'My_first_transform': ['/tmp/servicex_acordeir/15c023e3-0e92-41fc-8a3e-c8b880920c67/root___c112.af.uchicago.edu_1094__root___eosatlas.cern.ch_1094__eos_atlas_atlasscratchdisk_rucio_user_acordeir_2c_e6_0p4GeV_alp_med_prod2.root']}\n"
     ]
    }
   ],
   "source": [
    "# Delivered results on tmp storage\n",
    "print(transformed_results)"
   ]
  },
  {
   "cell_type": "markdown",
   "metadata": {},
   "source": [
    "### 3.2 - Quick analysis example \n",
    " ServiceX data delivery is particularly usefull for fast dataset exploration, specific studies. It is straigthforward to integrated it in small python scripts that analyse some physics feautres."
   ]
  },
  {
   "cell_type": "code",
   "execution_count": 11,
   "metadata": {},
   "outputs": [],
   "source": [
    "import matplotlib.pyplot as plt\n",
    "import awkward as ak\n",
    "\n",
    "def analyse(results, name):\n",
    "    # extract your array with analysis_utils\n",
    "    arr = to_awk(results)[name]\n",
    "\n",
    "    # compute displacement \n",
    "    displacement = (arr[\"truth_alp_decayVtxX\"]**2 +\n",
    "                    arr[\"truth_alp_decayVtxY\"]**2)**0.5\n",
    "\n",
    "    # flatten the awkward arrays\n",
    "    emfrac = ak.flatten(arr[\"jet_EMFrac_NOSYS\"])\n",
    "    disp   = ak.flatten(displacement)\n",
    "\n",
    "    # set up side-by-side subplots\n",
    "    fig, axes = plt.subplots(1, 2, figsize=(9, 4))\n",
    "\n",
    "    # EM fraction\n",
    "    axes[0].hist(emfrac, bins=50, range=[0,1] )\n",
    "    axes[0].set_title(f\" Jet EM Fraction\")\n",
    "    axes[0].set_xlabel(\"EM Fraction\")\n",
    "    axes[0].set_ylabel(\"Counts\")\n",
    "\n",
    "    # displacement\n",
    "    axes[1].hist(disp, bins=50, range=[0,5000], color=\"g\")\n",
    "    axes[1].set_title(f\"Decay Vertex Displacement\")\n",
    "    axes[1].set_xlabel(\"Displacement in x-y (mm)\")\n",
    "    axes[1].set_ylabel(\"Counts\")\n",
    "\n",
    "    plt.tight_layout()\n",
    "    plt.show()\n"
   ]
  },
  {
   "cell_type": "code",
   "execution_count": 12,
   "metadata": {},
   "outputs": [
    {
     "data": {
      "image/png": "[encoded data removed]",
      "text/plain": [
       "<Figure size 900x400 with 2 Axes>"
      ]
     },
     "metadata": {},
     "output_type": "display_data"
    }
   ],
   "source": [
    "analyse(transformed_results, \"My_first_transform\")"
   ]
  },
  {
   "cell_type": "markdown",
   "metadata": {},
   "source": [
    " Descrbide and emphasize how fast this was compared to have to -> go to lxplus and download with rucio, open the specific file in the path you downloaded, run trouthg the file for all skimming etc etc "
   ]
  },
  {
   "cell_type": "markdown",
   "metadata": {},
   "source": [
    "## 4 – Other Transformer Types for skimming root files"
   ]
  },
  {
   "cell_type": "markdown",
   "metadata": {},
   "source": [
    "### Same workflow on other stuff"
   ]
  },
  {
   "cell_type": "markdown",
   "metadata": {},
   "source": [
    "**Uproot** used directly in a more functional language \n",
    "cut parsed as string using awkward reducers\n",
    "\n",
    "num, count, count_nonzero, any, all, sum, prod, min, max, argmin, argmax, mean, var, std\n"
   ]
  },
  {
   "cell_type": "code",
   "execution_count": 13,
   "metadata": {},
   "outputs": [],
   "source": [
    "uproot_raw_query=query.UprootRaw([{\n",
    "    'treename':'reco',\n",
    "    'filter_name':\n",
    "      [ \"truth_alp_decayVtxX\",\n",
    "        \"truth_alp_decayVtxY\",\n",
    "        \"truth_alp_pt\",\n",
    "        \"truth_alp_eta\",\n",
    "        \"jet_EMFrac_NOSYS\", \n",
    "        \"jet_pt_NOSYS\" ],\n",
    "    'cut':\n",
    "        '(num(jet_pt_NOSYS)<2) & any((truth_alp_pt>20) & (abs(truth_alp_eta)<0.8))'}])\n",
    "        "
   ]
  },
  {
   "cell_type": "code",
   "execution_count": 14,
   "metadata": {},
   "outputs": [],
   "source": [
    "# UprootRaw example\n",
    "spec_upraw = {\n",
    "    'Sample': [{\n",
    "        'Name': 'UprootRawExample',\n",
    "        'Dataset': request_DS,\n",
    "        'Query': uproot_raw_query\n",
    "    }]\n",
    "}"
   ]
  },
  {
   "cell_type": "code",
   "execution_count": 15,
   "metadata": {},
   "outputs": [
    {
     "data": {
      "application/vnd.jupyter.widget-view+json": {
       "model_id": "0e9c937f65e64385b324876398aaddda",
       "version_major": 2,
       "version_minor": 0
      },
      "text/plain": [
       "Output()"
      ]
     },
     "metadata": {},
     "output_type": "display_data"
    },
    {
     "data": {
      "text/html": [
       "<pre style=\"white-space:pre;overflow-x:auto;line-height:normal;font-family:Menlo,'DejaVu Sans Mono',consolas,'Courier New',monospace\"></pre>\n"
      ],
      "text/plain": []
     },
     "metadata": {},
     "output_type": "display_data"
    }
   ],
   "source": [
    "results_uproot_raw=deliver(spec_upraw)"
   ]
  },
  {
   "cell_type": "code",
   "execution_count": 16,
   "metadata": {},
   "outputs": [
    {
     "data": {
      "image/png": "[encoded data removed]",
      "text/plain": [
       "<Figure size 900x400 with 2 Axes>"
      ]
     },
     "metadata": {},
     "output_type": "display_data"
    }
   ],
   "source": [
    "analyse(results_uproot_raw, \"UprootRawExample\")"
   ]
  },
  {
   "cell_type": "markdown",
   "metadata": {},
   "source": [
    "Same exact result, however the branches you load are the branches you dump \n",
    "\n",
    "UprootRaw also offers copy histograms! Example here \n",
    "\n",
    "Multi sample call here as well "
   ]
  },
  {
   "cell_type": "markdown",
   "metadata": {},
   "source": [
    "Func ADL uproot or Xaod \n",
    "func_adl is an SQL-like language used to construct hierarchical data queries for servicex. func_adl is written to work with both servicex service modes, and requires either func_adl_xAOD or func_adl_uproot for full functionality."
   ]
  },
  {
   "cell_type": "code",
   "execution_count": 37,
   "metadata": {},
   "outputs": [],
   "source": [
    "#The selection functions must return a boolean\n",
    "def jet_cut(evt) -> bool:\n",
    "    return evt[\"jet_pt_NOSYS\"].Count() < 2\n",
    "\n",
    "def alp_pt_cut(evt) -> bool:\n",
    "    # at least one ALP with pT > 20\n",
    "    return evt[\"truth_alp_pt\"].Where(lambda pt: pt > 20).Count() > 0\n",
    "\n",
    "def alp_eta_cut(evt) -> bool:\n",
    "    # at least one ALP with |η| < 0.8\n",
    "    return evt[\"truth_alp_eta\"].Where(lambda eta: abs(eta) < 0.8).Count() > 0\n",
    "\n",
    "simple_query = query.FuncADL_Uproot() \\\n",
    "    .FromTree(\"reco\") \\\n",
    "    .Where(jet_cut) \\\n",
    "    .Where(alp_pt_cut) \\\n",
    "    .Where(alp_eta_cut) \\\n",
    "    .Select(lambda e: {\n",
    "        \"jet_EMFrac_NOSYS\":  e[\"jet_EMFrac_NOSYS\"],\n",
    "        \"truth_alp_decayVtxX\":  e[\"truth_alp_decayVtxX\"],\n",
    "        \"truth_alp_decayVtxY\": e[\"truth_alp_decayVtxY\"],\n",
    "    })\n"
   ]
  },
  {
   "cell_type": "code",
   "execution_count": 18,
   "metadata": {},
   "outputs": [],
   "source": [
    "spec_funcadl = {\n",
    "    'Sample': [{\n",
    "        'Name': 'FuncADLExample',\n",
    "        'Dataset': request_DS,\n",
    "        'Query': simple_query\n",
    "    }]\n",
    "}"
   ]
  },
  {
   "cell_type": "code",
   "execution_count": 38,
   "metadata": {},
   "outputs": [
    {
     "ename": "NameError",
     "evalue": "name 'spec_funcadl' is not defined",
     "output_type": "error",
     "traceback": [
      "\u001b[0;31m---------------------------------------------------------------------------\u001b[0m",
      "\u001b[0;31mNameError\u001b[0m                                 Traceback (most recent call last)",
      "Cell \u001b[0;32mIn[38], line 1\u001b[0m\n\u001b[0;32m----> 1\u001b[0m result_funcadl\u001b[38;5;241m=\u001b[39mdeliver(\u001b[43mspec_funcadl\u001b[49m)\n",
      "\u001b[0;31mNameError\u001b[0m: name 'spec_funcadl' is not defined"
     ]
    }
   ],
   "source": [
    "result_funcadl=deliver(spec_funcadl)"
   ]
  },
  {
   "cell_type": "code",
   "execution_count": 20,
   "metadata": {},
   "outputs": [
    {
     "data": {
      "image/png": "[encoded data removed]",
      "text/plain": [
       "<Figure size 900x400 with 2 Axes>"
      ]
     },
     "metadata": {},
     "output_type": "display_data"
    }
   ],
   "source": [
    "analyse(r, \"FuncADLExample\")"
   ]
  },
  {
   "cell_type": "markdown",
   "metadata": {},
   "source": [
    "## 5 - ATLAS software transforms for xAOD"
   ]
  },
  {
   "cell_type": "markdown",
   "metadata": {},
   "source": [
    "Smth about func adl xADO"
   ]
  },
  {
   "cell_type": "code",
   "execution_count": 19,
   "metadata": {},
   "outputs": [],
   "source": [
    "#LLP1 DAOD\n",
    "\n",
    "DAOD=\"mc23_13p6TeV:mc23_13p6TeV.601806.PhPy8EG_AZNLO_ggH125_mA0p4_medium.deriv.DAOD_LLP1.e8526_e8528_s4111_s4114_r14622_r14663_p6368\"\n",
    "request_daod=dataset.Rucio(DAOD)"
   ]
  },
  {
   "cell_type": "code",
   "execution_count": 70,
   "metadata": {},
   "outputs": [],
   "source": [
    "query_adl = query.FuncADL_ATLASr22()\n",
    "truth_stream = query_adl.Select(\n",
    "    lambda e: e\n",
    "        .TruthParticles(\"TruthBSMWithDecayParticles\")\n",
    "        .Where(lambda p: p.absPdgId() == 35)\n",
    ")\n",
    "\n",
    "# now map to a dict of decay‐vertex coords\n",
    "truth_info = truth_stream.Select(\n",
    "    lambda ts: {\n",
    "        \"LLP_Lxy\": ts.Select(lambda p: (p.decayVtx().x()**2 + p.decayVtx().y()**2)**0.5),\n",
    "    }\n",
    ")"
   ]
  },
  {
   "cell_type": "code",
   "execution_count": 98,
   "metadata": {},
   "outputs": [
    {
     "data": {
      "application/vnd.jupyter.widget-view+json": {
       "model_id": "3f0276d4ec3d4ca4a9cf040e9104f5d5",
       "version_major": 2,
       "version_minor": 0
      },
      "text/plain": [
       "Output()"
      ]
     },
     "metadata": {},
     "output_type": "display_data"
    },
    {
     "data": {
      "text/html": [
       "<pre style=\"white-space:pre;overflow-x:auto;line-height:normal;font-family:Menlo,'DejaVu Sans Mono',consolas,'Courier New',monospace\"></pre>\n"
      ],
      "text/plain": []
     },
     "metadata": {},
     "output_type": "display_data"
    }
   ],
   "source": [
    "spec = {\n",
    "    \"Sample\": [\n",
    "        {\n",
    "            \"Name\": \"func_adl_xAOD_simple\",\n",
    "            \"Dataset\": request_daod,\n",
    "            \"Query\": truth_info,\n",
    "            \"NFiles\": 1,\n",
    "        }\n",
    "    ]\n",
    "}\n",
    "files = deliver(spec)"
   ]
  },
  {
   "cell_type": "code",
   "execution_count": 103,
   "metadata": {},
   "outputs": [
    {
     "name": "stdout",
     "output_type": "stream",
     "text": [
      "The BSM particle has a truth displacement mean of  1812.80 mm     \n",
      "Approximately 47.4 % of events have secondary vertices in ATLAS's tracker area\n"
     ]
    }
   ],
   "source": [
    "Lxy=to_awk(files)[\"func_adl_xAOD_simple\"][\"LLP_Lxy\"]\n",
    "print(\n",
    "    f\"The BSM particle has a truth displacement mean of {ak.mean(Lxy): .2f} mm \\\n",
    "    \\nApproximately {ak.count_nonzero(Lxy<1000)/len(Lxy)*100 :.1f} % of events have secondary vertices in ATLAS's tracker area\"\n",
    ")"
   ]
  },
  {
   "cell_type": "markdown",
   "metadata": {},
   "source": [
    "The xAOD support in func ADL allows users to use ATLAS software from any machine using ServiceX with very fast results.  \n",
    "\n",
    "Reminder:\n",
    "\n",
    "The standard workflow to reach this result with a DAOD would involve: Connecting to a machine (lxplus), setting up ATLAS tools, downloading one file from the rucio DID, writing an AnalysisBase or Athena package in C++ to access the objects and do the computation you seek; compile everything in the correct release, write down in a python config file all the flags you need and the input file paths.     \n",
    "\n",
    "For larger operations one might have to configure ATLAS `panda` to distribute the job on the GRID\n"
   ]
  },
  {
   "cell_type": "code",
   "execution_count": null,
   "metadata": {},
   "outputs": [],
   "source": []
  },
  {
   "cell_type": "markdown",
   "metadata": {},
   "source": [
    "###  ServiceX dashboard, errors logs \n",
    "- Image of moninotring transforms \n",
    "- image of errors "
   ]
  },
  {
   "cell_type": "code",
   "execution_count": null,
   "metadata": {},
   "outputs": [],
   "source": [
    "#Example of error in transformer execution\n",
    "\n",
    "def run_query(input_filenames):\n",
    "    return non_defined_variable\n",
    "\n",
    "error_query=query.PythonFunction().with_uproot_function(run_query)\n",
    "\n",
    "spec = {\n",
    "    \"Sample\": [\n",
    "        {\n",
    "            \"Name\": \"error_example\",\n",
    "            \"Dataset\": request_DS,\n",
    "            \"Query\": error_query,\n",
    "            \"NFiles\": 1,\n",
    "        }\n",
    "    ]\n",
    "}\n",
    "deliver(spec)"
   ]
  },
  {
   "cell_type": "markdown",
   "metadata": {},
   "source": [
    "## 5 - Optionnal functionalities \n",
    "- Request specifications: \n",
    "    - `General` block\n",
    "        - `OutputFormat` for root-file or parquet\n",
    "        - `Delivery` to download files to LocalCache or get SignedURLs to the S3 store\n",
    "        - Multiple `Sample` sub-blocks can be added. This allows different transforms per deliver call. \n",
    "\n",
    "    - `Sample` sub-block\n",
    "        - `NFiles` to choose the number of files to transform for each dataset \n",
    "    - UprootRaw queries\n",
    "        - `copy_histogram` This transformer type can directly copy Root histograms from the original file\n",
    "- `deliver` function\n",
    "    - `backend`: the end-point server can be manually selected\n",
    "    - `config_path`: the path to your servicex.yaml token\n",
    "    - `spec_file`: Can be used to import the transform specification from a .yaml file\n",
    "    -  Command line version for sending ServiceX trasnfoms from the shell\n",
    "\n",
    "       **Example below**"
   ]
  },
  {
   "cell_type": "code",
   "execution_count": 36,
   "metadata": {},
   "outputs": [
    {
     "name": "stdout",
     "output_type": "stream",
     "text": [
      "Delivering spec_file_example.yaml to ServiceX cache\n",
      "\u001b[2K5l\n",
      "\u001b[?25h\u001b[1m{\u001b[0m\n",
      "    \u001b[32m'CLI-Testing'\u001b[0m: \n",
      "\u001b[1m[\u001b[0m\u001b[32m'/tmp/servicex_acordeir/92951a25-6b20-4241-b15e-fb30f6c2f659/root___c112.af.uch\u001b[0m\n",
      "\u001b[32micago.edu_1094__root___dcgftp.usatlas.bnl.gov_1094__pnfs_usatlas.bnl.gov_LOCALGR\u001b[0m\n",
      "\u001b[32mOUPDISK_rucio_user_mtost_00_05_user.mtost.43325207._000108.all_with_sys.root'\u001b[0m\u001b[1m]\u001b[0m\n",
      "\u001b[1m}\u001b[0m\n"
     ]
    }
   ],
   "source": [
    "#Executing from the terminal with spec file\n",
    "!servicex deliver spec_file_example.yaml"
   ]
  },
  {
   "cell_type": "code",
   "execution_count": 41,
   "metadata": {},
   "outputs": [
    {
     "name": "stdout",
     "output_type": "stream",
     "text": [
      "Sample:\n",
      "  - Name: CLI-Testing\n",
      "    Dataset: !Rucio user.mtost:user.mtost.all.Mar11\n",
      "    NFiles: 1\n",
      "    Query: !UprootRaw |\n",
      "      [{\"treename\": \"reco\",\n",
      "        \"cut\": \"any(log(jet_GN2v01_pc / ((jet_GN2v01_pb * 0.3) + (jet_GN2v01_pu * (1 - 0.3)))) > 0.828, axis=1)\", \n",
      "        \"filter_name\": [\"mu_phi\", \"mu_eta\", \"mu_charge\", \"mu_e*\", \"mu_pt*\"]\n",
      "        },\n",
      "        {\"copy_histograms\": [\"CutBookkeeper*\", \"cflow*\", \"metadata\", \"listOfSystematics\"]}\n",
      "        ]\n",
      "      \n"
     ]
    }
   ],
   "source": [
    "!cat spec_file_example.yaml"
   ]
  },
  {
   "cell_type": "markdown",
   "metadata": {},
   "source": [
    "## 5 – Remote file introspection with ServiceX\n",
    "\n",
    "- For building ServiceX queries you need to know you dataset structure.\n",
    "    -  TTrees/branch names\n",
    "    -  available xAOD containers and decorations \n",
    "    -  Level of array nesting"
   ]
  },
  {
   "cell_type": "code",
   "execution_count": null,
   "metadata": {},
   "outputs": [],
   "source": [
    "from servicex_analysis_utils import get_structure\n",
    "\n",
    "structure_string=get_structure(DAOD)\n",
    "print(structure_string)"
   ]
  },
  {
   "cell_type": "markdown",
   "metadata": {},
   "source": [
    "You get the full Tree structure of your dataset in a few seconds. Including the name of TTrees, TBranches, base types, and levels of nesting (Jaggness). \n",
    "\n",
    "It also allows you to check what are the xAOD container names on AOD and DAOD root files and allows branch name filtering. \n",
    "\n"
   ]
  },
  {
   "cell_type": "markdown",
   "metadata": {},
   "source": [
    "## 6 – Free practice \n",
    "\n",
    "- Now that you have the building blocks to request a data transformation feel free to try any data skimming using ServiceX.\n",
    "- You can use either of the datasets `request_DS` or `request_daod`, or one that you might be familiar with.\n",
    "- Try to use different transformer types `PythonFunction`, `UprootRaw`, `Fund_ADL_Uproot`, `Func_ADL_xAOD`.\n",
    "- Remeber to  the `get_structure` function to see what is available in the datasets.\n",
    "- Try to make the best use of declarative syntax with the functional language queries.\n",
    "\n",
    " #### Exercise suggestion 1:\n",
    " - Compute the invariant mass of the 2-lepton system\n",
    " - Select events with exactly 2 opposite-charge electrons or muons\n",
    "\n",
    "\n",
    "Formula reminder for 2 reco objects:\n",
    "\n",
    " $\\quad\\quad$  $M^2 = 2 p_{T1} p_{T2} \\left( \\cosh(\\eta_1 - \\eta_2) - \\cos(\\phi_1 - \\phi_2) \\right)$\n",
    "\n",
    " #### Exercise suggestion 2:\n",
    "  - Compute the invariant mass of the lepton-lepton-jet (leading) system on the LLP datasets\n",
    "  - Implement a 40 GeV pt cut on the truth BSM particle (ALP)\n",
    "  - Select events with exactly 2 opposite-charge leptons\n",
    "  - Use Lorentz vectors\n"
   ]
  }
 ],
 "metadata": {
  "kernelspec": {
   "display_name": "Python 3 (ipykernel)",
   "language": "python",
   "name": "python3"
  },
  "language_info": {
   "codemirror_mode": {
    "name": "ipython",
    "version": 3
   },
   "file_extension": ".py",
   "mimetype": "text/x-python",
   "name": "python",
   "nbconvert_exporter": "python",
   "pygments_lexer": "ipython3",
   "version": "3.11.9"
  }
 },
 "nbformat": 4,
 "nbformat_minor": 4
}
